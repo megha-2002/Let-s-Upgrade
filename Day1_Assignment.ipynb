{
  "nbformat": 4,
  "nbformat_minor": 0,
  "metadata": {
    "colab": {
      "name": "Day1 Assignment.ipynb",
      "provenance": [],
      "authorship_tag": "ABX9TyMmJTLJ0IUdCdZI8d6ZjXML",
      "include_colab_link": true
    },
    "kernelspec": {
      "name": "python3",
      "display_name": "Python 3"
    },
    "language_info": {
      "name": "python"
    }
  },
  "cells": [
    {
      "cell_type": "markdown",
      "metadata": {
        "id": "view-in-github",
        "colab_type": "text"
      },
      "source": [
        "<a href=\"https://colab.research.google.com/github/megha-2002/Let-s-Upgrade/blob/main/Day1_Assignment.ipynb\" target=\"_parent\"><img src=\"https://colab.research.google.com/assets/colab-badge.svg\" alt=\"Open In Colab\"/></a>"
      ]
    },
    {
      "cell_type": "code",
      "source": [
        "import numpy as np"
      ],
      "metadata": {
        "id": "cBTh8Tm8wmL9"
      },
      "execution_count": 1,
      "outputs": []
    },
    {
      "cell_type": "code",
      "execution_count": 6,
      "metadata": {
        "colab": {
          "base_uri": "https://localhost:8080/"
        },
        "id": "n-DnScl-weQM",
        "outputId": "e35fc375-92a9-40cb-f093-2607b9d9e7e6"
      },
      "outputs": [
        {
          "output_type": "execute_result",
          "data": {
            "text/plain": [
              "array([[46, 26, 32, 20, 36],\n",
              "       [15, 13, 47, 42, 27],\n",
              "       [40, 33, 44, 37, 16],\n",
              "       [48, 44, 30, 39, 18],\n",
              "       [18, 33, 14, 26, 39]])"
            ]
          },
          "metadata": {},
          "execution_count": 6
        }
      ],
      "source": [
        "a= np.random.randint(10,50,(5,5))\n",
        "a"
      ]
    },
    {
      "cell_type": "code",
      "source": [
        "## printing 42, 27,\n",
        "##          37, 16\n",
        "a[1:3,3:]"
      ],
      "metadata": {
        "colab": {
          "base_uri": "https://localhost:8080/"
        },
        "id": "gk_pselgwswm",
        "outputId": "a0a00c47-f05e-41a5-ca3e-3a637f613a20"
      },
      "execution_count": 12,
      "outputs": [
        {
          "output_type": "execute_result",
          "data": {
            "text/plain": [
              "array([[42, 27],\n",
              "       [37, 16]])"
            ]
          },
          "metadata": {},
          "execution_count": 12
        }
      ]
    },
    {
      "cell_type": "code",
      "source": [
        "## printing 13, 47, 42,\n",
        "##          33, 44, 37\n",
        "a[1:3,1:4]"
      ],
      "metadata": {
        "colab": {
          "base_uri": "https://localhost:8080/"
        },
        "id": "hqy0fDHKxDnI",
        "outputId": "f191151a-fd49-4f08-96ac-5dc022b015f3"
      },
      "execution_count": 48,
      "outputs": [
        {
          "output_type": "execute_result",
          "data": {
            "text/plain": [
              "array([[13, 47, 42],\n",
              "       [33, 44, 37]])"
            ]
          },
          "metadata": {},
          "execution_count": 48
        }
      ]
    },
    {
      "cell_type": "code",
      "source": [
        ""
      ],
      "metadata": {
        "id": "n5-3hx6pyeNk"
      },
      "execution_count": null,
      "outputs": []
    }
  ]
}