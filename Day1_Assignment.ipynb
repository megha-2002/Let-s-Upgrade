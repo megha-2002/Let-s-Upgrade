{
  "nbformat": 4,
  "nbformat_minor": 0,
  "metadata": {
    "colab": {
      "name": "Day1 Assignment.ipynb",
      "provenance": [],
      "authorship_tag": "ABX9TyNhvPW/JU+hSHRrEVSMm+0p",
      "include_colab_link": true
    },
    "kernelspec": {
      "name": "python3",
      "display_name": "Python 3"
    },
    "language_info": {
      "name": "python"
    }
  },
  "cells": [
    {
      "cell_type": "markdown",
      "metadata": {
        "id": "view-in-github",
        "colab_type": "text"
      },
      "source": [
        "<a href=\"https://colab.research.google.com/github/megha-2002/Let-s-Upgrade/blob/main/Day1_Assignment.ipynb\" target=\"_parent\"><img src=\"https://colab.research.google.com/assets/colab-badge.svg\" alt=\"Open In Colab\"/></a>"
      ]
    },
    {
      "cell_type": "code",
      "source": [
        "import numpy as np"
      ],
      "metadata": {
        "id": "cBTh8Tm8wmL9"
      },
      "execution_count": 2,
      "outputs": []
    },
    {
      "cell_type": "code",
      "source": [
        "Arr=np.random.randint(-10,10,(1,5))\n",
        "Arr"
      ],
      "metadata": {
        "id": "STXLsTVMDYEP",
        "outputId": "fe63d6a7-6886-47d4-e1da-8b97ee4aeb81",
        "colab": {
          "base_uri": "https://localhost:8080/"
        }
      },
      "execution_count": 7,
      "outputs": [
        {
          "output_type": "execute_result",
          "data": {
            "text/plain": [
              "array([[ 9, -4, -1, -5,  1]])"
            ]
          },
          "metadata": {},
          "execution_count": 7
        }
      ]
    },
    {
      "cell_type": "code",
      "source": [
        "D=np.array(range(18)) + 3\n",
        "D"
      ],
      "metadata": {
        "id": "1Cae42_XD1PF",
        "outputId": "974e885f-8103-4527-ed01-1ec5b7c3e2bf",
        "colab": {
          "base_uri": "https://localhost:8080/"
        }
      },
      "execution_count": 9,
      "outputs": [
        {
          "output_type": "execute_result",
          "data": {
            "text/plain": [
              "array([ 3,  4,  5,  6,  7,  8,  9, 10, 11, 12, 13, 14, 15, 16, 17, 18, 19,\n",
              "       20])"
            ]
          },
          "metadata": {},
          "execution_count": 9
        }
      ]
    },
    {
      "cell_type": "code",
      "source": [
        "for i in range(2,10):\n",
        "  x=D[i]\n",
        "  print(x,end=\" \")"
      ],
      "metadata": {
        "id": "tMgmdo2sEAiz",
        "outputId": "31e7c083-4643-4492-e446-9db75bacd5c2",
        "colab": {
          "base_uri": "https://localhost:8080/"
        }
      },
      "execution_count": 32,
      "outputs": [
        {
          "output_type": "stream",
          "name": "stdout",
          "text": [
            "5 6 7 8 9 10 11 12 "
          ]
        }
      ]
    },
    {
      "cell_type": "code",
      "source": [
        "for i in range(10,2,-1):\n",
        "  y=D[i]\n",
        "  print(y,end=\" \")"
      ],
      "metadata": {
        "id": "07PPHC9jEdFr",
        "outputId": "02be2a7c-d367-4b05-d5ed-c2c84c07338e",
        "colab": {
          "base_uri": "https://localhost:8080/"
        }
      },
      "execution_count": 31,
      "outputs": [
        {
          "output_type": "stream",
          "name": "stdout",
          "text": [
            "13 12 11 10 9 8 7 6 "
          ]
        }
      ]
    },
    {
      "cell_type": "code",
      "source": [
        "z = D[::-1]\n",
        "print(z)"
      ],
      "metadata": {
        "id": "7Vk_-hF-E1Zc",
        "outputId": "04e8b637-d1a7-4fc1-d423-6100f5218208",
        "colab": {
          "base_uri": "https://localhost:8080/"
        }
      },
      "execution_count": 30,
      "outputs": [
        {
          "output_type": "stream",
          "name": "stdout",
          "text": [
            "[20 19 18 17 16 15 14 13 12 11 10  9  8  7  6  5  4  3]\n"
          ]
        }
      ]
    },
    {
      "cell_type": "markdown",
      "source": [
        "**3. How are NumPy Arrays better than Lists in Python?**\n",
        "\n",
        "They are very much convenient to use as it contains many inbult functionalities. It consumes less memory and is fast as compared to lists."
      ],
      "metadata": {
        "id": "Pnlt_a48GSYp"
      }
    },
    {
      "cell_type": "markdown",
      "source": [
        "**4. Explain the data types supported by Numpy.** \n",
        "\n",
        "i - integer\n",
        "\n",
        "b - boolean\n",
        "\n",
        "f - float\n",
        "\n",
        "O - object\n",
        "\n",
        "S - string\n",
        "\n",
        "are some of the most commonly used datatyped in numpy. \n",
        "\n",
        "u - unsigned integer\n",
        "\n",
        "c - complex float\n",
        "\n",
        "m - timedelta\n",
        "\n",
        "M - datetime\n",
        "\n",
        "U - unicode string\n",
        "\n",
        "V - fixed chunk of memory for other type ( void )\n",
        "\n",
        "are also used in necessory cases."
      ],
      "metadata": {
        "id": "7cPzESPhG38i"
      }
    },
    {
      "cell_type": "markdown",
      "source": [
        "**INDEXING PROBLEM-PRACTICE**"
      ],
      "metadata": {
        "id": "ztH--9jrH5h6"
      }
    },
    {
      "cell_type": "code",
      "execution_count": 4,
      "metadata": {
        "colab": {
          "base_uri": "https://localhost:8080/"
        },
        "id": "n-DnScl-weQM",
        "outputId": "e576aabc-f0aa-4765-ab07-b88e2567ff3c"
      },
      "outputs": [
        {
          "output_type": "execute_result",
          "data": {
            "text/plain": [
              "array([[29, 42, 47, 11, 13],\n",
              "       [43, 28, 16, 24, 49],\n",
              "       [22, 27, 12, 43, 44],\n",
              "       [42, 44, 32, 31, 37],\n",
              "       [48, 36, 42, 34, 22]])"
            ]
          },
          "metadata": {},
          "execution_count": 4
        }
      ],
      "source": [
        "a= np.random.randint(10,50,(5,5))\n",
        "a"
      ]
    },
    {
      "cell_type": "code",
      "source": [
        "## printing 42, 27,\n",
        "##          37, 16\n",
        "a[1:3,3:]"
      ],
      "metadata": {
        "colab": {
          "base_uri": "https://localhost:8080/"
        },
        "id": "gk_pselgwswm",
        "outputId": "e3b811f4-d702-4eed-ceb9-511a93c1d82d"
      },
      "execution_count": 5,
      "outputs": [
        {
          "output_type": "execute_result",
          "data": {
            "text/plain": [
              "array([[24, 49],\n",
              "       [43, 44]])"
            ]
          },
          "metadata": {},
          "execution_count": 5
        }
      ]
    },
    {
      "cell_type": "code",
      "source": [
        "## printing 13, 47, 42,\n",
        "##          33, 44, 37\n",
        "a[1:3,1:4]"
      ],
      "metadata": {
        "colab": {
          "base_uri": "https://localhost:8080/"
        },
        "id": "hqy0fDHKxDnI",
        "outputId": "083dc0fa-f3f7-4f95-8ec3-961b145cc87c"
      },
      "execution_count": 6,
      "outputs": [
        {
          "output_type": "execute_result",
          "data": {
            "text/plain": [
              "array([[28, 16, 24],\n",
              "       [27, 12, 43]])"
            ]
          },
          "metadata": {},
          "execution_count": 6
        }
      ]
    },
    {
      "cell_type": "code",
      "source": [
        ""
      ],
      "metadata": {
        "id": "n5-3hx6pyeNk"
      },
      "execution_count": 1,
      "outputs": []
    }
  ]
}